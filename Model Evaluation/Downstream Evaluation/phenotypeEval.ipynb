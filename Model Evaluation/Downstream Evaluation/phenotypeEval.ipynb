{
 "cells": [
  {
   "cell_type": "code",
   "execution_count": 17,
   "metadata": {},
   "outputs": [],
   "source": [
    "import pandas as pd\n",
    "import numpy as np\n",
    "from sklearn.model_selection import cross_val_score"
   ]
  },
  {
   "cell_type": "code",
   "execution_count": 55,
   "metadata": {},
   "outputs": [],
   "source": [
    "phenoDF = pd.read_table(\"pheno_matrix.txt\")\n",
    "\n",
    "# y = [int(element*1000) for element in phenoDF[\"YPACETATE\"]]\n",
    "# y = list(phenoDF[\"YPACETATE\"])\n",
    "y = list(phenoDF['YPDBENOMYL200'])\n",
    "\n",
    "seqs = list(phenoDF[\"Unnamed: 0\"])"
   ]
  },
  {
   "cell_type": "markdown",
   "metadata": {},
   "source": [
    "# Using Embeddings' Average:"
   ]
  },
  {
   "cell_type": "code",
   "execution_count": 48,
   "metadata": {},
   "outputs": [],
   "source": [
    "npzfile = np.load(f\"../Model Inference/Full/Hyena/hyenadna-medium-450k-seqlen-hf.npz\")\n",
    "\n",
    "X = []\n",
    "\n",
    "for seq in seqs:\n",
    "    try:\n",
    "        embedding = npzfile[seq]\n",
    "        X.append(np.sum(embedding, axis=0) / len(embedding))\n",
    "    except KeyError:\n",
    "        embedding = npzfile[seq.lstrip(\"SACE_\")]\n",
    "        X.append(np.sum(embedding, axis=0) / len(embedding)) # since a few strain names are somehow missing the 'SACE_' prefix from the full genome embeddings set"
   ]
  },
  {
   "cell_type": "code",
   "execution_count": 49,
   "metadata": {},
   "outputs": [],
   "source": [
    "npzfile = np.load(f\"../Model Inference/Full/Hyena/hyenadna-medium-160k-seqlen-hf.npz\")\n",
    "\n",
    "X1 = []\n",
    "\n",
    "for seq in seqs:\n",
    "    try:\n",
    "        embedding = npzfile[seq]\n",
    "        X1.append(np.sum(embedding, axis=0) / len(embedding))\n",
    "    except KeyError:\n",
    "        embedding = npzfile[seq.lstrip(\"SACE_\")]\n",
    "        X1.append(np.sum(embedding, axis=0) / len(embedding)) # since a few strain names are somehow missing the 'SACE_' prefix from the full genome embeddings set"
   ]
  },
  {
   "cell_type": "code",
   "execution_count": 5,
   "metadata": {},
   "outputs": [
    {
     "name": "stdout",
     "output_type": "stream",
     "text": [
      "True\n"
     ]
    }
   ],
   "source": [
    "print(len(X) == len(y))"
   ]
  },
  {
   "cell_type": "code",
   "execution_count": 15,
   "metadata": {},
   "outputs": [
    {
     "data": {
      "text/plain": [
       "(971, 256)"
      ]
     },
     "execution_count": 15,
     "metadata": {},
     "output_type": "execute_result"
    }
   ],
   "source": [
    "X = np.array(X)\n",
    "X.shape"
   ]
  },
  {
   "cell_type": "markdown",
   "metadata": {},
   "source": [
    "## With RandomForest:"
   ]
  },
  {
   "cell_type": "code",
   "execution_count": 51,
   "metadata": {},
   "outputs": [],
   "source": [
    "from sklearn.ensemble import RandomForestClassifier, RandomForestRegressor\n",
    "RF = RandomForestRegressor()"
   ]
  },
  {
   "cell_type": "code",
   "execution_count": 53,
   "metadata": {},
   "outputs": [
    {
     "data": {
      "text/plain": [
       "array([-0.6378985 ,  0.02369207, -0.42790956, -0.1961357 , -0.28983685])"
      ]
     },
     "execution_count": 53,
     "metadata": {},
     "output_type": "execute_result"
    }
   ],
   "source": [
    "scores450RF = cross_val_score(RF, X, y, cv=5)\n",
    "scores450RF"
   ]
  },
  {
   "cell_type": "code",
   "execution_count": 54,
   "metadata": {},
   "outputs": [
    {
     "data": {
      "text/plain": [
       "array([-0.61858975, -0.05500674, -0.32105781, -0.23478421, -0.20924817])"
      ]
     },
     "execution_count": 54,
     "metadata": {},
     "output_type": "execute_result"
    }
   ],
   "source": [
    "scores160RF = cross_val_score(RF, X1, y, cv=5)\n",
    "scores160RF"
   ]
  },
  {
   "cell_type": "markdown",
   "metadata": {},
   "source": [
    "## With SVM:"
   ]
  },
  {
   "cell_type": "code",
   "execution_count": 65,
   "metadata": {},
   "outputs": [],
   "source": [
    "from sklearn import svm\n",
    "SVM = svm.SVC()"
   ]
  },
  {
   "cell_type": "code",
   "execution_count": 35,
   "metadata": {},
   "outputs": [
    {
     "name": "stderr",
     "output_type": "stream",
     "text": [
      "c:\\Users\\Ruhaib\\anaconda3\\envs\\eval\\Lib\\site-packages\\sklearn\\model_selection\\_split.py:776: UserWarning: The least populated class in y has only 1 members, which is less than n_splits=5.\n",
      "  warnings.warn(\n"
     ]
    },
    {
     "data": {
      "text/plain": [
       "array([0.01025641, 0.00515464, 0.00515464, 0.01546392, 0.01030928])"
      ]
     },
     "execution_count": 35,
     "metadata": {},
     "output_type": "execute_result"
    }
   ],
   "source": [
    "scores450SVM = cross_val_score(SVM, X, y, cv=5)\n",
    "scores450SVM"
   ]
  },
  {
   "cell_type": "code",
   "execution_count": 37,
   "metadata": {},
   "outputs": [
    {
     "name": "stderr",
     "output_type": "stream",
     "text": [
      "c:\\Users\\Ruhaib\\anaconda3\\envs\\eval\\Lib\\site-packages\\sklearn\\model_selection\\_split.py:776: UserWarning: The least populated class in y has only 1 members, which is less than n_splits=5.\n",
      "  warnings.warn(\n"
     ]
    },
    {
     "data": {
      "text/plain": [
       "array([0.        , 0.00515464, 0.00515464, 0.01030928, 0.01030928])"
      ]
     },
     "execution_count": 37,
     "metadata": {},
     "output_type": "execute_result"
    }
   ],
   "source": [
    "scores160SVM = cross_val_score(SVM, X1, y, cv=5)\n",
    "scores160SVM"
   ]
  },
  {
   "cell_type": "markdown",
   "metadata": {},
   "source": [
    "## With LinR:"
   ]
  },
  {
   "cell_type": "code",
   "execution_count": 64,
   "metadata": {},
   "outputs": [],
   "source": [
    "from sklearn.linear_model import LinearRegression\n",
    "LR = LinearRegression()"
   ]
  },
  {
   "cell_type": "code",
   "execution_count": 39,
   "metadata": {},
   "outputs": [
    {
     "data": {
      "text/plain": [
       "array([-1.40179968, -6.2492857 , -0.85793722, -0.85353208, -1.20329857])"
      ]
     },
     "execution_count": 39,
     "metadata": {},
     "output_type": "execute_result"
    }
   ],
   "source": [
    "scores450LR = cross_val_score(LR, X, y, cv=5)\n",
    "scores450LR"
   ]
  },
  {
   "cell_type": "code",
   "execution_count": 40,
   "metadata": {},
   "outputs": [
    {
     "data": {
      "text/plain": [
       "array([-1.081218  , -1.40302992, -0.71570218, -1.05345893, -1.01768947])"
      ]
     },
     "execution_count": 40,
     "metadata": {},
     "output_type": "execute_result"
    }
   ],
   "source": [
    "scores160LR = cross_val_score(LR, X1, y, cv=5)\n",
    "scores160LR"
   ]
  },
  {
   "cell_type": "markdown",
   "metadata": {},
   "source": [
    "# Using Embeddings' Sum:"
   ]
  },
  {
   "cell_type": "code",
   "execution_count": 57,
   "metadata": {},
   "outputs": [],
   "source": [
    "npzfile = np.load(f\"../Model Inference/Full/Hyena/hyenadna-medium-450k-seqlen-hf.npz\")\n",
    "\n",
    "X_ = []\n",
    "\n",
    "for seq in seqs:\n",
    "    try:\n",
    "        embedding = npzfile[seq]\n",
    "        X_.append(np.sum(embedding, axis=0))\n",
    "    except KeyError:\n",
    "        embedding = npzfile[seq.lstrip(\"SACE_\")]\n",
    "        X_.append(np.sum(embedding, axis=0)) # since a few strain names are somehow missing the 'SACE_' prefix from the full genome embeddings set"
   ]
  },
  {
   "cell_type": "code",
   "execution_count": 58,
   "metadata": {},
   "outputs": [],
   "source": [
    "npzfile = np.load(f\"../Model Inference/Full/Hyena/hyenadna-medium-160k-seqlen-hf.npz\")\n",
    "\n",
    "X1_ = []\n",
    "\n",
    "for seq in seqs:\n",
    "    try:\n",
    "        embedding = npzfile[seq]\n",
    "        X1_.append(np.sum(embedding, axis=0))\n",
    "    except KeyError:\n",
    "        embedding = npzfile[seq.lstrip(\"SACE_\")]\n",
    "        X1_.append(np.sum(embedding, axis=0)) # since a few strain names are somehow missing the 'SACE_' prefix from the full genome embeddings set"
   ]
  },
  {
   "cell_type": "code",
   "execution_count": 59,
   "metadata": {},
   "outputs": [
    {
     "data": {
      "text/plain": [
       "array([-0.09460869, -0.0744593 , -0.05556011, -0.16851795, -0.18971893])"
      ]
     },
     "execution_count": 59,
     "metadata": {},
     "output_type": "execute_result"
    }
   ],
   "source": [
    "scores450RF_Sum = cross_val_score(RF, X_, y, cv=5)\n",
    "scores450RF_Sum"
   ]
  },
  {
   "cell_type": "code",
   "execution_count": 60,
   "metadata": {},
   "outputs": [
    {
     "data": {
      "text/plain": [
       "array([-0.05950192, -0.03359265, -0.0427862 , -0.13746747, -0.21976269])"
      ]
     },
     "execution_count": 60,
     "metadata": {},
     "output_type": "execute_result"
    }
   ],
   "source": [
    "scores160RF_Sum = cross_val_score(RF, X1_, y, cv=5)\n",
    "scores160RF_Sum"
   ]
  },
  {
   "cell_type": "markdown",
   "metadata": {},
   "source": [
    "# Single Gene Trials:"
   ]
  },
  {
   "cell_type": "code",
   "execution_count": 74,
   "metadata": {},
   "outputs": [],
   "source": [
    "with open('../Model Inference/Embeddings/YAL007C/hyenadna-medium-450k-seqlen-hf.txt', 'r+') as f:\n",
    "    singleGene = eval(f.read())\n",
    "\n",
    "embeddingsSingle = np.asarray([element['embedding'] for element in singleGene][:971])"
   ]
  },
  {
   "cell_type": "code",
   "execution_count": 63,
   "metadata": {},
   "outputs": [
    {
     "name": "stdout",
     "output_type": "stream",
     "text": [
      "True\n"
     ]
    }
   ],
   "source": [
    "print(len(embeddingsSingle) == len(y))"
   ]
  },
  {
   "cell_type": "code",
   "execution_count": 75,
   "metadata": {},
   "outputs": [
    {
     "data": {
      "text/plain": [
       "array([-0.06241806, -0.20893366, -0.03256559, -0.19607821, -0.0868113 ])"
      ]
     },
     "execution_count": 75,
     "metadata": {},
     "output_type": "execute_result"
    }
   ],
   "source": [
    "scores450RFSingle = cross_val_score(RF, embeddingsSingle, y, cv=5)\n",
    "scores450RFSingle"
   ]
  },
  {
   "cell_type": "code",
   "execution_count": 68,
   "metadata": {},
   "outputs": [],
   "source": [
    "score1mRF = cross_val_score(RF, embeddingsSingle, y, cv=5)"
   ]
  },
  {
   "cell_type": "code",
   "execution_count": 70,
   "metadata": {},
   "outputs": [
    {
     "data": {
      "text/plain": [
       "array([-0.04897535, -0.17931478, -0.06889755, -0.20531716, -0.08206305])"
      ]
     },
     "execution_count": 70,
     "metadata": {},
     "output_type": "execute_result"
    }
   ],
   "source": [
    "score1mRF"
   ]
  },
  {
   "cell_type": "markdown",
   "metadata": {},
   "source": [
    "## Overall results:"
   ]
  },
  {
   "cell_type": "code",
   "execution_count": 96,
   "metadata": {},
   "outputs": [
    {
     "data": {
      "image/png": "[encoded data removed]",
      "text/plain": [
       "<Figure size 640x480 with 1 Axes>"
      ]
     },
     "metadata": {},
     "output_type": "display_data"
    }
   ],
   "source": [
    "import matplotlib.pyplot as plt\n",
    "\n",
    "X_axis = np.arange(1)\n",
    "X = ['Average Score']\n",
    "\n",
    "plt.bar(X_axis, np.average(np.array(scores450RF)), 0.1, label = \"Full Genome Embeddings - Averaged\") \n",
    "plt.bar(X_axis + 0.2, np.average(np.array(scores450RF_Sum)), 0.1, label = 'Full Genome Embeddings - Summed') \n",
    "plt.bar(X_axis + 0.4, np.average(np.array(scores450RFSingle)), 0.1, label = 'Single Gene') \n",
    "  \n",
    "plt.xticks(X_axis, X) \n",
    "plt.xlabel(\"Method\") \n",
    "plt.ylabel(\"Score\") \n",
    "plt.title(\"Cross Validity Scores - Random Forest\") \n",
    "plt.legend() \n",
    "plt.show() "
   ]
  },
  {
   "cell_type": "code",
   "execution_count": 109,
   "metadata": {},
   "outputs": [
    {
     "data": {
      "text/plain": [
       "<ErrorbarContainer object of 3 artists>"
      ]
     },
     "execution_count": 109,
     "metadata": {},
     "output_type": "execute_result"
    },
    {
     "data": {
      "image/png": "[encoded data removed]",
      "text/plain": [
       "<Figure size 640x480 with 1 Axes>"
      ]
     },
     "metadata": {},
     "output_type": "display_data"
    }
   ],
   "source": [
    "x = [\"Averaged\" ,'Summed' , 'Single Gene']\n",
    "y = [np.array(scores450RF), np.array(scores450RF_Sum), np.array(scores450RFSingle)]\n",
    "yAvg = [np.average(element) for element in y]\n",
    "yerr = [np.std(element) for element in y]\n",
    "\n",
    "plt.errorbar(x, yAvg, yerr)"
   ]
  },
  {
   "cell_type": "code",
   "execution_count": null,
   "metadata": {},
   "outputs": [],
   "source": []
  }
 ],
 "metadata": {
  "kernelspec": {
   "display_name": "eval",
   "language": "python",
   "name": "python3"
  },
  "language_info": {
   "codemirror_mode": {
    "name": "ipython",
    "version": 3
   },
   "file_extension": ".py",
   "mimetype": "text/x-python",
   "name": "python",
   "nbconvert_exporter": "python",
   "pygments_lexer": "ipython3",
   "version": "3.12.4"
  }
 },
 "nbformat": 4,
 "nbformat_minor": 2
}
